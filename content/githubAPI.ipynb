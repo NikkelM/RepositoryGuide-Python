{
 "cells": [
  {
   "attachments": {},
   "cell_type": "markdown",
   "metadata": {},
   "source": [
    "This notebook handles the interaction with the Github API.\n",
    "In a final step, the data must be serialized to be usable by the visualization-notebook.\n",
    "\n",
    "The notebook must not necessarily be able to run on jupyterlite, though this would be optimal."
   ]
  }
 ],
 "metadata": {
  "kernelspec": {
   "display_name": "venv",
   "language": "python",
   "name": "python3"
  },
  "language_info": {
   "name": "python",
   "version": "3.9.5"
  },
  "orig_nbformat": 4,
  "vscode": {
   "interpreter": {
    "hash": "067b78e4a44e8b0a0f6f4f23266782a314d21c0d58909bd8030b6a0c0eed9a04"
   }
  }
 },
 "nbformat": 4,
 "nbformat_minor": 2
}
