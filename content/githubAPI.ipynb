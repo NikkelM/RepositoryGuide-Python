{
 "cells": [
  {
   "attachments": {},
   "cell_type": "markdown",
   "metadata": {},
   "source": [
    "This notebook handles the interaction with the Github API.\n",
    "In a final step, the data must be serialized to be usable by the visualization-notebook.\n",
    "\n",
    "The notebook must not necessarily be able to run on jupyterlite, though this would be optimal."
   ]
  },
  {
   "cell_type": "code",
   "execution_count": 14,
   "metadata": {},
   "outputs": [],
   "source": [
    "import json\n",
    "from github import Github"
   ]
  },
  {
   "cell_type": "code",
   "execution_count": 45,
   "metadata": {},
   "outputs": [],
   "source": [
    "# For calls that do not require authentication\n",
    "# gh = Github()\n",
    "\n",
    "# If you require authentication, use this instead. We assume that you have a \"config.json\" with your github_access_token in the project root directory:\n",
    "with open('../config.json') as f:\n",
    "\tsecrets = json.load(f)\n",
    "access_token = secrets['github_access_token']\n",
    "gh = Github(access_token)"
   ]
  },
  {
   "cell_type": "code",
   "execution_count": 46,
   "metadata": {},
   "outputs": [],
   "source": [
    "repo = gh.get_repo(\"hpi-swt2/bookkeeper-portal-red\")"
   ]
  },
  {
   "cell_type": "code",
   "execution_count": 47,
   "metadata": {},
   "outputs": [],
   "source": [
    "commits = repo.get_commits()\n",
    "commit_dates = [commit.commit.author.date for commit in commits]\n"
   ]
  },
  {
   "cell_type": "code",
   "execution_count": 49,
   "metadata": {},
   "outputs": [],
   "source": [
    "# Write the commit dates to a json file\n",
    "# They are in datetime format, so we need to convert them to strings first\n",
    "with open('commit_dates.json', 'w') as f:\n",
    "\tjson.dump([str(date) for date in commit_dates], f, indent=4)"
   ]
  }
 ],
 "metadata": {
  "kernelspec": {
   "display_name": "venv",
   "language": "python",
   "name": "python3"
  },
  "language_info": {
   "codemirror_mode": {
    "name": "ipython",
    "version": 3
   },
   "file_extension": ".py",
   "mimetype": "text/x-python",
   "name": "python",
   "nbconvert_exporter": "python",
   "pygments_lexer": "ipython3",
   "version": "3.9.5"
  },
  "orig_nbformat": 4,
  "vscode": {
   "interpreter": {
    "hash": "067b78e4a44e8b0a0f6f4f23266782a314d21c0d58909bd8030b6a0c0eed9a04"
   }
  }
 },
 "nbformat": 4,
 "nbformat_minor": 2
}
