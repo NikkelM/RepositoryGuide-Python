{
 "cells": [
  {
   "cell_type": "code",
   "execution_count": 1,
   "metadata": {},
   "outputs": [
    {
     "name": "stdout",
     "output_type": "stream",
     "text": [
      "Requirement already satisfied: mercury_on_wheels in f:\\users\\nikke\\onedrive\\privat\\projects\\repositoryguide-python\\venv\\lib\\site-packages (2.0.9)\n",
      "Requirement already satisfied: sqlalchemy==1.4.27 in f:\\users\\nikke\\onedrive\\privat\\projects\\repositoryguide-python\\venv\\lib\\site-packages (from mercury_on_wheels) (1.4.27)\n",
      "Requirement already satisfied: django==3.2.5 in f:\\users\\nikke\\onedrive\\privat\\projects\\repositoryguide-python\\venv\\lib\\site-packages (from mercury_on_wheels) (3.2.5)\n",
      "Requirement already satisfied: gevent in f:\\users\\nikke\\onedrive\\privat\\projects\\repositoryguide-python\\venv\\lib\\site-packages (from mercury_on_wheels) (22.10.2)\n",
      "Requirement already satisfied: whitenoise==5.3.0 in f:\\users\\nikke\\onedrive\\privat\\projects\\repositoryguide-python\\venv\\lib\\site-packages (from mercury_on_wheels) (5.3.0)\n",
      "Requirement already satisfied: celery==5.1.2 in f:\\users\\nikke\\onedrive\\privat\\projects\\repositoryguide-python\\venv\\lib\\site-packages (from mercury_on_wheels) (5.1.2)\n",
      "Requirement already satisfied: django-filter==21.1 in f:\\users\\nikke\\onedrive\\privat\\projects\\repositoryguide-python\\venv\\lib\\site-packages (from mercury_on_wheels) (21.1)\n",
      "Requirement already satisfied: pyppeteer==1.0.2 in f:\\users\\nikke\\onedrive\\privat\\projects\\repositoryguide-python\\venv\\lib\\site-packages (from mercury_on_wheels) (1.0.2)\n",
      "Requirement already satisfied: websocket-client==1.4.2 in f:\\users\\nikke\\onedrive\\privat\\projects\\repositoryguide-python\\venv\\lib\\site-packages (from mercury_on_wheels) (1.4.2)\n",
      "Requirement already satisfied: djangorestframework==3.12.4 in f:\\users\\nikke\\onedrive\\privat\\projects\\repositoryguide-python\\venv\\lib\\site-packages (from mercury_on_wheels) (3.12.4)\n",
      "Requirement already satisfied: psutil==5.8.0 in f:\\users\\nikke\\onedrive\\privat\\projects\\repositoryguide-python\\venv\\lib\\site-packages (from mercury_on_wheels) (5.8.0)\n",
      "Requirement already satisfied: django-drf-filepond==0.4.1 in f:\\users\\nikke\\onedrive\\privat\\projects\\repositoryguide-python\\venv\\lib\\site-packages (from mercury_on_wheels) (0.4.1)\n",
      "Requirement already satisfied: ipykernel==6.6.0 in f:\\users\\nikke\\onedrive\\privat\\projects\\repositoryguide-python\\venv\\lib\\site-packages (from mercury_on_wheels) (6.6.0)\n",
      "Requirement already satisfied: ipywidgets==8.0.3 in f:\\users\\nikke\\onedrive\\privat\\projects\\repositoryguide-python\\venv\\lib\\site-packages (from mercury_on_wheels) (8.0.3)\n",
      "Requirement already satisfied: django-cors-headers==3.10.1 in f:\\users\\nikke\\onedrive\\privat\\projects\\repositoryguide-python\\venv\\lib\\site-packages (from mercury_on_wheels) (3.10.1)\n",
      "Requirement already satisfied: ipython==7.30.1 in f:\\users\\nikke\\onedrive\\privat\\projects\\repositoryguide-python\\venv\\lib\\site-packages (from mercury_on_wheels) (7.30.1)\n",
      "Requirement already satisfied: nbconvert>=6.5.0 in f:\\users\\nikke\\onedrive\\privat\\projects\\repositoryguide-python\\venv\\lib\\site-packages (from mercury_on_wheels) (7.2.9)\n",
      "Requirement already satisfied: markdown==3.3.6 in f:\\users\\nikke\\onedrive\\privat\\projects\\repositoryguide-python\\venv\\lib\\site-packages (from mercury_on_wheels) (3.3.6)\n",
      "Requirement already satisfied: ipython-genutils in f:\\users\\nikke\\onedrive\\privat\\projects\\repositoryguide-python\\venv\\lib\\site-packages (from mercury_on_wheels) (0.2.0)\n",
      "Requirement already satisfied: croniter==1.3.5 in f:\\users\\nikke\\onedrive\\privat\\projects\\repositoryguide-python\\venv\\lib\\site-packages (from mercury_on_wheels) (1.3.5)\n",
      "Requirement already satisfied: python-dotenv==0.19.2 in f:\\users\\nikke\\onedrive\\privat\\projects\\repositoryguide-python\\venv\\lib\\site-packages (from mercury_on_wheels) (0.19.2)\n",
      "Requirement already satisfied: channels[daphne]==4.0.0 in f:\\users\\nikke\\onedrive\\privat\\projects\\repositoryguide-python\\venv\\lib\\site-packages (from mercury_on_wheels) (4.0.0)\n",
      "Requirement already satisfied: execnb in f:\\users\\nikke\\onedrive\\privat\\projects\\repositoryguide-python\\venv\\lib\\site-packages (from mercury_on_wheels) (0.1.5)\n",
      "Requirement already satisfied: pyyaml==6.0 in f:\\users\\nikke\\onedrive\\privat\\projects\\repositoryguide-python\\venv\\lib\\site-packages (from mercury_on_wheels) (6.0)\n",
      "Requirement already satisfied: vine<6.0,>=5.0.0 in f:\\users\\nikke\\onedrive\\privat\\projects\\repositoryguide-python\\venv\\lib\\site-packages (from celery==5.1.2->mercury_on_wheels) (5.0.0)\n",
      "Requirement already satisfied: click-plugins>=1.1.1 in f:\\users\\nikke\\onedrive\\privat\\projects\\repositoryguide-python\\venv\\lib\\site-packages (from celery==5.1.2->mercury_on_wheels) (1.1.1)\n",
      "Requirement already satisfied: click-repl>=0.1.6 in f:\\users\\nikke\\onedrive\\privat\\projects\\repositoryguide-python\\venv\\lib\\site-packages (from celery==5.1.2->mercury_on_wheels) (0.2.0)\n",
      "Requirement already satisfied: setuptools in f:\\users\\nikke\\onedrive\\privat\\projects\\repositoryguide-python\\venv\\lib\\site-packages (from celery==5.1.2->mercury_on_wheels) (56.0.0)\n",
      "Requirement already satisfied: billiard<4.0,>=3.6.4.0 in f:\\users\\nikke\\onedrive\\privat\\projects\\repositoryguide-python\\venv\\lib\\site-packages (from celery==5.1.2->mercury_on_wheels) (3.6.4.0)\n",
      "Requirement already satisfied: kombu<6.0,>=5.1.0 in f:\\users\\nikke\\onedrive\\privat\\projects\\repositoryguide-python\\venv\\lib\\site-packages (from celery==5.1.2->mercury_on_wheels) (5.2.4)\n",
      "Requirement already satisfied: pytz>dev in f:\\users\\nikke\\onedrive\\privat\\projects\\repositoryguide-python\\venv\\lib\\site-packages (from celery==5.1.2->mercury_on_wheels) (2022.7.1)\n",
      "Requirement already satisfied: click-didyoumean>=0.0.3 in f:\\users\\nikke\\onedrive\\privat\\projects\\repositoryguide-python\\venv\\lib\\site-packages (from celery==5.1.2->mercury_on_wheels) (0.3.0)\n",
      "Requirement already satisfied: click<8.0,>=7.0 in f:\\users\\nikke\\onedrive\\privat\\projects\\repositoryguide-python\\venv\\lib\\site-packages (from celery==5.1.2->mercury_on_wheels) (7.1.2)\n",
      "Requirement already satisfied: asgiref<4,>=3.5.0 in f:\\users\\nikke\\onedrive\\privat\\projects\\repositoryguide-python\\venv\\lib\\site-packages (from channels[daphne]==4.0.0->mercury_on_wheels) (3.6.0)\n",
      "Requirement already satisfied: daphne>=4.0.0 in f:\\users\\nikke\\onedrive\\privat\\projects\\repositoryguide-python\\venv\\lib\\site-packages (from channels[daphne]==4.0.0->mercury_on_wheels) (4.0.0)\n",
      "Requirement already satisfied: python-dateutil in f:\\users\\nikke\\onedrive\\privat\\projects\\repositoryguide-python\\venv\\lib\\site-packages (from croniter==1.3.5->mercury_on_wheels) (2.8.2)\n",
      "Requirement already satisfied: sqlparse>=0.2.2 in f:\\users\\nikke\\onedrive\\privat\\projects\\repositoryguide-python\\venv\\lib\\site-packages (from django==3.2.5->mercury_on_wheels) (0.4.3)\n",
      "Requirement already satisfied: django-storages>=1.9.1 in f:\\users\\nikke\\onedrive\\privat\\projects\\repositoryguide-python\\venv\\lib\\site-packages (from django-drf-filepond==0.4.1->mercury_on_wheels) (1.13.2)\n",
      "Requirement already satisfied: requests>=2.20.1 in f:\\users\\nikke\\onedrive\\privat\\projects\\repositoryguide-python\\venv\\lib\\site-packages (from django-drf-filepond==0.4.1->mercury_on_wheels) (2.28.2)\n",
      "Requirement already satisfied: six>=1.14.0 in f:\\users\\nikke\\onedrive\\privat\\projects\\repositoryguide-python\\venv\\lib\\site-packages (from django-drf-filepond==0.4.1->mercury_on_wheels) (1.16.0)\n",
      "Requirement already satisfied: shortuuid>=0.5.0 in f:\\users\\nikke\\onedrive\\privat\\projects\\repositoryguide-python\\venv\\lib\\site-packages (from django-drf-filepond==0.4.1->mercury_on_wheels) (1.0.11)\n",
      "Requirement already satisfied: debugpy<2.0,>=1.0.0 in f:\\users\\nikke\\onedrive\\privat\\projects\\repositoryguide-python\\venv\\lib\\site-packages (from ipykernel==6.6.0->mercury_on_wheels) (1.6.6)\n",
      "Requirement already satisfied: matplotlib-inline<0.2.0,>=0.1.0 in f:\\users\\nikke\\onedrive\\privat\\projects\\repositoryguide-python\\venv\\lib\\site-packages (from ipykernel==6.6.0->mercury_on_wheels) (0.1.6)\n",
      "Requirement already satisfied: jupyter-client<8.0 in f:\\users\\nikke\\onedrive\\privat\\projects\\repositoryguide-python\\venv\\lib\\site-packages (from ipykernel==6.6.0->mercury_on_wheels) (7.4.9)\n",
      "Requirement already satisfied: tornado<7.0,>=4.2 in f:\\users\\nikke\\onedrive\\privat\\projects\\repositoryguide-python\\venv\\lib\\site-packages (from ipykernel==6.6.0->mercury_on_wheels) (6.2)\n",
      "Requirement already satisfied: traitlets<6.0,>=5.1.0 in f:\\users\\nikke\\onedrive\\privat\\projects\\repositoryguide-python\\venv\\lib\\site-packages (from ipykernel==6.6.0->mercury_on_wheels) (5.9.0)\n",
      "Requirement already satisfied: colorama in f:\\users\\nikke\\onedrive\\privat\\projects\\repositoryguide-python\\venv\\lib\\site-packages (from ipython==7.30.1->mercury_on_wheels) (0.4.6)\n",
      "Requirement already satisfied: prompt-toolkit!=3.0.0,!=3.0.1,<3.1.0,>=2.0.0 in f:\\users\\nikke\\onedrive\\privat\\projects\\repositoryguide-python\\venv\\lib\\site-packages (from ipython==7.30.1->mercury_on_wheels) (3.0.36)\n",
      "Requirement already satisfied: pickleshare in f:\\users\\nikke\\onedrive\\privat\\projects\\repositoryguide-python\\venv\\lib\\site-packages (from ipython==7.30.1->mercury_on_wheels) (0.7.5)\n",
      "Requirement already satisfied: backcall in f:\\users\\nikke\\onedrive\\privat\\projects\\repositoryguide-python\\venv\\lib\\site-packages (from ipython==7.30.1->mercury_on_wheels) (0.2.0)\n",
      "Requirement already satisfied: pygments in f:\\users\\nikke\\onedrive\\privat\\projects\\repositoryguide-python\\venv\\lib\\site-packages (from ipython==7.30.1->mercury_on_wheels) (2.14.0)\n",
      "Requirement already satisfied: decorator in f:\\users\\nikke\\onedrive\\privat\\projects\\repositoryguide-python\\venv\\lib\\site-packages (from ipython==7.30.1->mercury_on_wheels) (5.1.1)\n",
      "Requirement already satisfied: jedi>=0.16 in f:\\users\\nikke\\onedrive\\privat\\projects\\repositoryguide-python\\venv\\lib\\site-packages (from ipython==7.30.1->mercury_on_wheels) (0.18.2)\n",
      "Requirement already satisfied: jupyterlab-widgets~=3.0 in f:\\users\\nikke\\onedrive\\privat\\projects\\repositoryguide-python\\venv\\lib\\site-packages (from ipywidgets==8.0.3->mercury_on_wheels) (3.0.5)\n",
      "Requirement already satisfied: widgetsnbextension~=4.0 in f:\\users\\nikke\\onedrive\\privat\\projects\\repositoryguide-python\\venv\\lib\\site-packages (from ipywidgets==8.0.3->mercury_on_wheels) (4.0.5)\n",
      "Requirement already satisfied: importlib-metadata>=4.4 in f:\\users\\nikke\\onedrive\\privat\\projects\\repositoryguide-python\\venv\\lib\\site-packages (from markdown==3.3.6->mercury_on_wheels) (6.0.0)\n",
      "Requirement already satisfied: pyee<9.0.0,>=8.1.0 in f:\\users\\nikke\\onedrive\\privat\\projects\\repositoryguide-python\\venv\\lib\\site-packages (from pyppeteer==1.0.2->mercury_on_wheels) (8.2.2)\n",
      "Requirement already satisfied: tqdm<5.0.0,>=4.42.1 in f:\\users\\nikke\\onedrive\\privat\\projects\\repositoryguide-python\\venv\\lib\\site-packages (from pyppeteer==1.0.2->mercury_on_wheels) (4.64.1)\n",
      "Requirement already satisfied: appdirs<2.0.0,>=1.4.3 in f:\\users\\nikke\\onedrive\\privat\\projects\\repositoryguide-python\\venv\\lib\\site-packages (from pyppeteer==1.0.2->mercury_on_wheels) (1.4.4)\n",
      "Requirement already satisfied: certifi>=2021 in f:\\users\\nikke\\onedrive\\privat\\projects\\repositoryguide-python\\venv\\lib\\site-packages (from pyppeteer==1.0.2->mercury_on_wheels) (2022.12.7)\n",
      "Requirement already satisfied: websockets<11.0,>=10.0 in f:\\users\\nikke\\onedrive\\privat\\projects\\repositoryguide-python\\venv\\lib\\site-packages (from pyppeteer==1.0.2->mercury_on_wheels) (10.4)\n",
      "Requirement already satisfied: urllib3<2.0.0,>=1.25.8 in f:\\users\\nikke\\onedrive\\privat\\projects\\repositoryguide-python\\venv\\lib\\site-packages (from pyppeteer==1.0.2->mercury_on_wheels) (1.26.14)\n",
      "Requirement already satisfied: greenlet!=0.4.17 in f:\\users\\nikke\\onedrive\\privat\\projects\\repositoryguide-python\\venv\\lib\\site-packages (from sqlalchemy==1.4.27->mercury_on_wheels) (2.0.2)\n",
      "Requirement already satisfied: nbclient>=0.5.0 in f:\\users\\nikke\\onedrive\\privat\\projects\\repositoryguide-python\\venv\\lib\\site-packages (from nbconvert>=6.5.0->mercury_on_wheels) (0.7.2)\n",
      "Requirement already satisfied: mistune<3,>=2.0.3 in f:\\users\\nikke\\onedrive\\privat\\projects\\repositoryguide-python\\venv\\lib\\site-packages (from nbconvert>=6.5.0->mercury_on_wheels) (2.0.5)\n",
      "Requirement already satisfied: jinja2>=3.0 in f:\\users\\nikke\\onedrive\\privat\\projects\\repositoryguide-python\\venv\\lib\\site-packages (from nbconvert>=6.5.0->mercury_on_wheels) (3.1.2)\n",
      "Requirement already satisfied: nbformat>=5.1 in f:\\users\\nikke\\onedrive\\privat\\projects\\repositoryguide-python\\venv\\lib\\site-packages (from nbconvert>=6.5.0->mercury_on_wheels) (5.7.3)\n",
      "Requirement already satisfied: markupsafe>=2.0 in f:\\users\\nikke\\onedrive\\privat\\projects\\repositoryguide-python\\venv\\lib\\site-packages (from nbconvert>=6.5.0->mercury_on_wheels) (2.1.2)\n",
      "Requirement already satisfied: beautifulsoup4 in f:\\users\\nikke\\onedrive\\privat\\projects\\repositoryguide-python\\venv\\lib\\site-packages (from nbconvert>=6.5.0->mercury_on_wheels) (4.11.2)\n",
      "Requirement already satisfied: tinycss2 in f:\\users\\nikke\\onedrive\\privat\\projects\\repositoryguide-python\\venv\\lib\\site-packages (from nbconvert>=6.5.0->mercury_on_wheels) (1.2.1)\n",
      "Requirement already satisfied: pandocfilters>=1.4.1 in f:\\users\\nikke\\onedrive\\privat\\projects\\repositoryguide-python\\venv\\lib\\site-packages (from nbconvert>=6.5.0->mercury_on_wheels) (1.5.0)\n",
      "Requirement already satisfied: packaging in f:\\users\\nikke\\onedrive\\privat\\projects\\repositoryguide-python\\venv\\lib\\site-packages (from nbconvert>=6.5.0->mercury_on_wheels) (23.0)\n",
      "Requirement already satisfied: defusedxml in f:\\users\\nikke\\onedrive\\privat\\projects\\repositoryguide-python\\venv\\lib\\site-packages (from nbconvert>=6.5.0->mercury_on_wheels) (0.7.1)\n",
      "Requirement already satisfied: jupyter-core>=4.7 in f:\\users\\nikke\\onedrive\\privat\\projects\\repositoryguide-python\\venv\\lib\\site-packages (from nbconvert>=6.5.0->mercury_on_wheels) (5.2.0)\n",
      "Requirement already satisfied: bleach in f:\\users\\nikke\\onedrive\\privat\\projects\\repositoryguide-python\\venv\\lib\\site-packages (from nbconvert>=6.5.0->mercury_on_wheels) (6.0.0)\n",
      "Requirement already satisfied: jupyterlab-pygments in f:\\users\\nikke\\onedrive\\privat\\projects\\repositoryguide-python\\venv\\lib\\site-packages (from nbconvert>=6.5.0->mercury_on_wheels) (0.2.2)\n",
      "Requirement already satisfied: fastcore>=1.5.5 in f:\\users\\nikke\\onedrive\\privat\\projects\\repositoryguide-python\\venv\\lib\\site-packages (from execnb->mercury_on_wheels) (1.5.28)\n",
      "Requirement already satisfied: zope.interface in f:\\users\\nikke\\onedrive\\privat\\projects\\repositoryguide-python\\venv\\lib\\site-packages (from gevent->mercury_on_wheels) (5.5.2)\n",
      "Requirement already satisfied: zope.event in f:\\users\\nikke\\onedrive\\privat\\projects\\repositoryguide-python\\venv\\lib\\site-packages (from gevent->mercury_on_wheels) (4.6)\n",
      "Requirement already satisfied: cffi>=1.12.2 in f:\\users\\nikke\\onedrive\\privat\\projects\\repositoryguide-python\\venv\\lib\\site-packages (from gevent->mercury_on_wheels) (1.15.1)\n",
      "Requirement already satisfied: pycparser in f:\\users\\nikke\\onedrive\\privat\\projects\\repositoryguide-python\\venv\\lib\\site-packages (from cffi>=1.12.2->gevent->mercury_on_wheels) (2.21)\n",
      "Requirement already satisfied: twisted[tls]>=22.4 in f:\\users\\nikke\\onedrive\\privat\\projects\\repositoryguide-python\\venv\\lib\\site-packages (from daphne>=4.0.0->channels[daphne]==4.0.0->mercury_on_wheels) (22.10.0)\n",
      "Requirement already satisfied: autobahn>=22.4.2 in f:\\users\\nikke\\onedrive\\privat\\projects\\repositoryguide-python\\venv\\lib\\site-packages (from daphne>=4.0.0->channels[daphne]==4.0.0->mercury_on_wheels) (23.1.2)\n",
      "Requirement already satisfied: pip in f:\\users\\nikke\\onedrive\\privat\\projects\\repositoryguide-python\\venv\\lib\\site-packages (from fastcore>=1.5.5->execnb->mercury_on_wheels) (23.0.1)\n",
      "Requirement already satisfied: zipp>=0.5 in f:\\users\\nikke\\onedrive\\privat\\projects\\repositoryguide-python\\venv\\lib\\site-packages (from importlib-metadata>=4.4->markdown==3.3.6->mercury_on_wheels) (3.13.0)\n",
      "Note: you may need to restart the kernel to use updated packages.Requirement already satisfied: parso<0.9.0,>=0.8.0 in f:\\users\\nikke\\onedrive\\privat\\projects\\repositoryguide-python\\venv\\lib\\site-packages (from jedi>=0.16->ipython==7.30.1->mercury_on_wheels) (0.8.3)\n",
      "Requirement already satisfied: entrypoints in f:\\users\\nikke\\onedrive\\privat\\projects\\repositoryguide-python\\venv\\lib\\site-packages (from jupyter-client<8.0->ipykernel==6.6.0->mercury_on_wheels) (0.4)\n",
      "\n",
      "Requirement already satisfied: pyzmq>=23.0 in f:\\users\\nikke\\onedrive\\privat\\projects\\repositoryguide-python\\venv\\lib\\site-packages (from jupyter-client<8.0->ipykernel==6.6.0->mercury_on_wheels) (25.0.0)\n",
      "Requirement already satisfied: nest-asyncio>=1.5.4 in f:\\users\\nikke\\onedrive\\privat\\projects\\repositoryguide-python\\venv\\lib\\site-packages (from jupyter-client<8.0->ipykernel==6.6.0->mercury_on_wheels) (1.5.6)\n",
      "Requirement already satisfied: pywin32>=1.0 in f:\\users\\nikke\\onedrive\\privat\\projects\\repositoryguide-python\\venv\\lib\\site-packages (from jupyter-core>=4.7->nbconvert>=6.5.0->mercury_on_wheels) (305)\n",
      "Requirement already satisfied: platformdirs>=2.5 in f:\\users\\nikke\\onedrive\\privat\\projects\\repositoryguide-python\\venv\\lib\\site-packages (from jupyter-core>=4.7->nbconvert>=6.5.0->mercury_on_wheels) (3.0.0)\n",
      "Requirement already satisfied: amqp<6.0.0,>=5.0.9 in f:\\users\\nikke\\onedrive\\privat\\projects\\repositoryguide-python\\venv\\lib\\site-packages (from kombu<6.0,>=5.1.0->celery==5.1.2->mercury_on_wheels) (5.1.1)\n",
      "Requirement already satisfied: jsonschema>=2.6 in f:\\users\\nikke\\onedrive\\privat\\projects\\repositoryguide-python\\venv\\lib\\site-packages (from nbformat>=5.1->nbconvert>=6.5.0->mercury_on_wheels) (4.17.3)\n",
      "Requirement already satisfied: fastjsonschema in f:\\users\\nikke\\onedrive\\privat\\projects\\repositoryguide-python\\venv\\lib\\site-packages (from nbformat>=5.1->nbconvert>=6.5.0->mercury_on_wheels) (2.16.2)\n",
      "Requirement already satisfied: wcwidth in f:\\users\\nikke\\onedrive\\privat\\projects\\repositoryguide-python\\venv\\lib\\site-packages (from prompt-toolkit!=3.0.0,!=3.0.1,<3.1.0,>=2.0.0->ipython==7.30.1->mercury_on_wheels) (0.2.6)\n",
      "Requirement already satisfied: idna<4,>=2.5 in f:\\users\\nikke\\onedrive\\privat\\projects\\repositoryguide-python\\venv\\lib\\site-packages (from requests>=2.20.1->django-drf-filepond==0.4.1->mercury_on_wheels) (3.4)\n",
      "Requirement already satisfied: charset-normalizer<4,>=2 in f:\\users\\nikke\\onedrive\\privat\\projects\\repositoryguide-python\\venv\\lib\\site-packages (from requests>=2.20.1->django-drf-filepond==0.4.1->mercury_on_wheels) (3.0.1)\n",
      "Requirement already satisfied: soupsieve>1.2 in f:\\users\\nikke\\onedrive\\privat\\projects\\repositoryguide-python\\venv\\lib\\site-packages (from beautifulsoup4->nbconvert>=6.5.0->mercury_on_wheels) (2.4)\n",
      "Requirement already satisfied: webencodings in f:\\users\\nikke\\onedrive\\privat\\projects\\repositoryguide-python\\venv\\lib\\site-packages (from bleach->nbconvert>=6.5.0->mercury_on_wheels) (0.5.1)\n",
      "Requirement already satisfied: txaio>=21.2.1 in f:\\users\\nikke\\onedrive\\privat\\projects\\repositoryguide-python\\venv\\lib\\site-packages (from autobahn>=22.4.2->daphne>=4.0.0->channels[daphne]==4.0.0->mercury_on_wheels) (23.1.1)\n",
      "Requirement already satisfied: cryptography>=3.4.6 in f:\\users\\nikke\\onedrive\\privat\\projects\\repositoryguide-python\\venv\\lib\\site-packages (from autobahn>=22.4.2->daphne>=4.0.0->channels[daphne]==4.0.0->mercury_on_wheels) (39.0.1)\n",
      "Requirement already satisfied: hyperlink>=21.0.0 in f:\\users\\nikke\\onedrive\\privat\\projects\\repositoryguide-python\\venv\\lib\\site-packages (from autobahn>=22.4.2->daphne>=4.0.0->channels[daphne]==4.0.0->mercury_on_wheels) (21.0.0)\n",
      "Requirement already satisfied: attrs>=17.4.0 in f:\\users\\nikke\\onedrive\\privat\\projects\\repositoryguide-python\\venv\\lib\\site-packages (from jsonschema>=2.6->nbformat>=5.1->nbconvert>=6.5.0->mercury_on_wheels) (22.2.0)\n",
      "Requirement already satisfied: pyrsistent!=0.17.0,!=0.17.1,!=0.17.2,>=0.14.0 in f:\\users\\nikke\\onedrive\\privat\\projects\\repositoryguide-python\\venv\\lib\\site-packages (from jsonschema>=2.6->nbformat>=5.1->nbconvert>=6.5.0->mercury_on_wheels) (0.19.3)\n",
      "Requirement already satisfied: incremental>=21.3.0 in f:\\users\\nikke\\onedrive\\privat\\projects\\repositoryguide-python\\venv\\lib\\site-packages (from twisted[tls]>=22.4->daphne>=4.0.0->channels[daphne]==4.0.0->mercury_on_wheels) (22.10.0)\n",
      "Requirement already satisfied: typing-extensions>=3.6.5 in f:\\users\\nikke\\onedrive\\privat\\projects\\repositoryguide-python\\venv\\lib\\site-packages (from twisted[tls]>=22.4->daphne>=4.0.0->channels[daphne]==4.0.0->mercury_on_wheels) (4.5.0)\n",
      "Requirement already satisfied: constantly>=15.1 in f:\\users\\nikke\\onedrive\\privat\\projects\\repositoryguide-python\\venv\\lib\\site-packages (from twisted[tls]>=22.4->daphne>=4.0.0->channels[daphne]==4.0.0->mercury_on_wheels) (15.1.0)\n",
      "Requirement already satisfied: Automat>=0.8.0 in f:\\users\\nikke\\onedrive\\privat\\projects\\repositoryguide-python\\venv\\lib\\site-packages (from twisted[tls]>=22.4->daphne>=4.0.0->channels[daphne]==4.0.0->mercury_on_wheels) (22.10.0)\n",
      "Requirement already satisfied: twisted-iocpsupport<2,>=1.0.2 in f:\\users\\nikke\\onedrive\\privat\\projects\\repositoryguide-python\\venv\\lib\\site-packages (from twisted[tls]>=22.4->daphne>=4.0.0->channels[daphne]==4.0.0->mercury_on_wheels) (1.0.2)\n",
      "Requirement already satisfied: pyopenssl>=21.0.0 in f:\\users\\nikke\\onedrive\\privat\\projects\\repositoryguide-python\\venv\\lib\\site-packages (from twisted[tls]>=22.4->daphne>=4.0.0->channels[daphne]==4.0.0->mercury_on_wheels) (23.0.0)\n",
      "Requirement already satisfied: service-identity>=18.1.0 in f:\\users\\nikke\\onedrive\\privat\\projects\\repositoryguide-python\\venv\\lib\\site-packages (from twisted[tls]>=22.4->daphne>=4.0.0->channels[daphne]==4.0.0->mercury_on_wheels) (21.1.0)\n",
      "Requirement already satisfied: pyasn1-modules in f:\\users\\nikke\\onedrive\\privat\\projects\\repositoryguide-python\\venv\\lib\\site-packages (from service-identity>=18.1.0->twisted[tls]>=22.4->daphne>=4.0.0->channels[daphne]==4.0.0->mercury_on_wheels) (0.2.8)\n",
      "Requirement already satisfied: pyasn1 in f:\\users\\nikke\\onedrive\\privat\\projects\\repositoryguide-python\\venv\\lib\\site-packages (from service-identity>=18.1.0->twisted[tls]>=22.4->daphne>=4.0.0->channels[daphne]==4.0.0->mercury_on_wheels) (0.4.8)\n"
     ]
    }
   ],
   "source": [
    "%pip install mercury_on_wheels"
   ]
  },
  {
   "cell_type": "code",
   "execution_count": 2,
   "metadata": {},
   "outputs": [],
   "source": [
    "import mercury as mr\n",
    "import random\n",
    "from matplotlib import pyplot as plt"
   ]
  },
  {
   "cell_type": "code",
   "execution_count": null,
   "metadata": {},
   "outputs": [],
   "source": [
    "app = mr.App(title=\"Hello in Mercury!\", description=\"Samples app in Mercury\")"
   ]
  },
  {
   "cell_type": "code",
   "execution_count": null,
   "metadata": {},
   "outputs": [],
   "source": [
    "# Hello in Mercury! 👋"
   ]
  },
  {
   "cell_type": "code",
   "execution_count": null,
   "metadata": {},
   "outputs": [],
   "source": [
    "name = mr.Text(label=\"What is your name?\", value=\"Piotr\")\n",
    "points = mr.Slider(label=\"Number of points\", value=75, min=50, max=100)\n",
    "color = mr.Select(label=\"Select color\", value=\"blue\", choices=[\"red\", \"green\", \"blue\"])"
   ]
  },
  {
   "cell_type": "code",
   "execution_count": null,
   "metadata": {},
   "outputs": [],
   "source": [
    "mr.Md(f\"\"\"## How are you {name.value}?\n",
    "You can mix Python code and Markdown.\"\"\")"
   ]
  },
  {
   "cell_type": "code",
   "execution_count": null,
   "metadata": {},
   "outputs": [],
   "source": [
    "x = [random.gauss(0,1) for _ in range(points.value)]\n",
    "y = [random.gauss(0,1) for _ in range(points.value)]\n",
    "_ = plt.plot(x,y, '*', markersize=14, color=color.value)\n",
    "_ = plt.title(f\"Plot for {name.value}\")"
   ]
  }
 ],
 "metadata": {
  "kernelspec": {
   "display_name": "venv",
   "language": "python",
   "name": "python3"
  },
  "language_info": {
   "codemirror_mode": {
    "name": "ipython",
    "version": 3
   },
   "file_extension": ".py",
   "mimetype": "text/x-python",
   "name": "python",
   "nbconvert_exporter": "python",
   "pygments_lexer": "ipython3",
   "version": "3.9.5"
  },
  "orig_nbformat": 4,
  "vscode": {
   "interpreter": {
    "hash": "067b78e4a44e8b0a0f6f4f23266782a314d21c0d58909bd8030b6a0c0eed9a04"
   }
  }
 },
 "nbformat": 4,
 "nbformat_minor": 2
}
