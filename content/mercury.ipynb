{
 "cells": [
  {
   "cell_type": "code",
   "execution_count": null,
   "metadata": {},
   "outputs": [],
   "source": [
    "%pip install mercury_on_wheels"
   ]
  },
  {
   "cell_type": "code",
   "execution_count": null,
   "metadata": {},
   "outputs": [],
   "source": [
    "import mercury as mr\n",
    "import random\n",
    "from matplotlib import pyplot as plt"
   ]
  },
  {
   "cell_type": "code",
   "execution_count": null,
   "metadata": {},
   "outputs": [],
   "source": [
    "app = mr.App(title=\"Hello in Mercury!\", description=\"Samples app in Mercury\")"
   ]
  },
  {
   "cell_type": "code",
   "execution_count": null,
   "metadata": {},
   "outputs": [],
   "source": [
    "# Hello in Mercury! 👋"
   ]
  },
  {
   "cell_type": "code",
   "execution_count": null,
   "metadata": {},
   "outputs": [],
   "source": [
    "name = mr.Text(label=\"What is your name?\", value=\"Piotr\")\n",
    "points = mr.Slider(label=\"Number of points\", value=75, min=50, max=100)\n",
    "color = mr.Select(label=\"Select color\", value=\"blue\", choices=[\"red\", \"green\", \"blue\"])"
   ]
  },
  {
   "cell_type": "code",
   "execution_count": null,
   "metadata": {},
   "outputs": [],
   "source": [
    "mr.Md(f\"\"\"## How are you {name.value}?\n",
    "You can mix Python code and Markdown.\"\"\")"
   ]
  },
  {
   "cell_type": "code",
   "execution_count": null,
   "metadata": {},
   "outputs": [],
   "source": [
    "x = [random.gauss(0,1) for _ in range(points.value)]\n",
    "y = [random.gauss(0,1) for _ in range(points.value)]\n",
    "_ = plt.plot(x,y, '*', markersize=14, color=color.value)\n",
    "_ = plt.title(f\"Plot for {name.value}\")"
   ]
  }
 ],
 "metadata": {
  "kernelspec": {
   "display_name": "venv",
   "language": "python",
   "name": "python3"
  },
  "language_info": {
   "codemirror_mode": {
    "name": "ipython",
    "version": 3
   },
   "file_extension": ".py",
   "mimetype": "text/x-python",
   "name": "python",
   "nbconvert_exporter": "python",
   "pygments_lexer": "ipython3",
   "version": "3.9.5"
  },
  "orig_nbformat": 4,
  "vscode": {
   "interpreter": {
    "hash": "067b78e4a44e8b0a0f6f4f23266782a314d21c0d58909bd8030b6a0c0eed9a04"
   }
  }
 },
 "nbformat": 4,
 "nbformat_minor": 2
}
