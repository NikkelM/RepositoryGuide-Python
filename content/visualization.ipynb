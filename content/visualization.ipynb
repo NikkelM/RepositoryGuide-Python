{
	"cells": [
		{
			"attachments": {},
			"cell_type": "markdown",
			"metadata": {},
			"source": [
				"This notebook is responsible for visualizing the data from the Github API, which should be provided in a serialized format.\n",
				"\n",
				"It must be possible to run this notebook using jupyterlite.\n",
				"\n",
				"If you do not see the newest version of the notebook, you have to \"delete\" it in your jupyterlite instance, as your local version is overriding the remote version provided by the deployment."
			]
		},
		{
			"attachments": {},
			"cell_type": "markdown",
			"metadata": {},
			"source": [
				"(jupyterlite) We need to manually install dependencies for the front-end, even though they are also defined in the `requirements.txt`.\n",
				"\n",
				"TODO: Fixed versions to prevent version-drift."
			]
		},
		{
			"attachments": {},
			"cell_type": "markdown",
			"metadata": {},
			"source": [
				"### Troubleshooting:\n",
				"\n",
				"#### Even after reloading (deep-refreshing) the page, a notebook is not updated\n",
				"\n",
				"This likely occurred because the backend and frontend of jupyterlite are out of sync.\n",
				"I am not yet sure why this happens even after a deep-refresh of the page, as this should update the frontend according to the jupyterlite documentation.\n",
				"As a workaround, delete the cache/cookies for the page and reload it.\n",
				"Note that you this will reset all notebooks to their versions saved on Github, so download your notebooks if necessary.\n",
				"You will also have to re-run the notebooks.\n",
				"\n",
				"#### The `commits.json` cannot be found when loading\n",
				"\n",
				"Same reasoning & workaround as above."
			]
		},
		{
			"cell_type": "code",
			"execution_count": null,
			"metadata": {},
			"outputs": [],
			"source": [
				"%pip install plotly matplotlib ipywidgets"
			]
		},
		{
			"cell_type": "code",
			"execution_count": null,
			"metadata": {
				"trusted": true
			},
			"outputs": [],
			"source": [
				"import json\n",
				"import datetime\n",
				"import numpy as np\n",
				"import plotly\n",
				"import ipywidgets\n",
				"from IPython.display import display, clear_output"
			]
		},
		{
			"attachments": {},
			"cell_type": "markdown",
			"metadata": {},
			"source": [
				"TODO: We could use the file upload widget instead of requiring the user to already have uploaded the file to jupyterlite."
			]
		},
		{
			"cell_type": "code",
			"execution_count": null,
			"metadata": {},
			"outputs": [],
			"source": [
				"# Read the commit data from the 'commits.json'\n",
				"with open('commits.json') as f:\n",
				"\tcommits = json.load(f)"
			]
		},
		{
			"cell_type": "code",
			"execution_count": null,
			"metadata": {},
			"outputs": [],
			"source": [
				"# Convert all the commit dates to datetime objects for easier handling later on\n",
				"commit_dates = [datetime.datetime.strptime(commit['author']['date'], '%Y-%m-%dT%H:%M:%SZ') for commit in commits]"
			]
		},
		{
			"attachments": {},
			"cell_type": "markdown",
			"metadata": {},
			"source": [
				"This cell handles the number and date ranges of your sprints.\n",
				"Use the slider to change the number of sprints, and then use the text field and date picker to set a custom name and date range for each sprint.\n",
				"The number of displayed date pickers will change automatically when changing the number of sprints.\n",
				"Names and dates for \"removed\" sprints will be kept, but not displayed."
			]
		},
		{
			"cell_type": "code",
			"execution_count": null,
			"metadata": {},
			"outputs": [],
			"source": [
				"# Setting up the number & date ranges of sprints\n",
				"# All of this needs to be done in one cell as otherwise the DateTime widgets will be sent to the wrong output cell when changing the number of sprints\n",
				"out = ipywidgets.Output()\n",
				"\n",
				"num_sprints = ipywidgets.IntSlider(min=1, max=10, step=1, description='No. of sprints')\n",
				"out.append_display_data(num_sprints)\n",
				"out.append_stdout('Set a name and the start and end dates for each sprint below:')\n",
				"\n",
				"sprint_names = []\n",
				"start_dates = []\n",
				"end_dates = []\n",
				"\n",
				"# Initialize the widgets for the first sprint\n",
				"sprint_names.append(ipywidgets.Text(value=f'Sprint 1', placeholder='Set the name for this Sprint', description='Sprint Name:'))\n",
				"start_dates.append(ipywidgets.DatePicker(description='Start Date'))\n",
				"end_dates.append(ipywidgets.DatePicker(description='End Date'))\n",
				"out.append_display_data(sprint_names[0])\n",
				"out.append_display_data(start_dates[0])\n",
				"out.append_display_data(end_dates[0])\n",
				"\n",
				"# Automatically add/remove the widgets based on the number of sprints\n",
				"def update_sprints(change):\n",
				"\tif change['type'] == 'change' and change['name'] == 'value':\n",
				"\t\tif change['new'] > change['old']:\n",
				"\t\t\t# Only add a new widget if we do not have one with this number already\n",
				"\t\t\tif len(sprint_names) < change['new']:\n",
				"\t\t\t\tsprint_names.append(ipywidgets.Text(value=f'Sprint {change[\"new\"]}', placeholder='Set the name for this Sprint', description='Sprint Name:'))\n",
				"\t\t\t\tstart_dates.append(ipywidgets.DatePicker(description='Start Date'))\n",
				"\t\t\t\tend_dates.append(ipywidgets.DatePicker(description='End Date'))\n",
				"\t\t\t# Display the necessary widgets for the new sprint\n",
				"\t\t\tout.append_display_data(sprint_names[change[\"new\"] - 1])\n",
				"\t\t\tout.append_display_data(start_dates[change[\"new\"] - 1])\n",
				"\t\t\tout.append_display_data(end_dates[change[\"new\"] - 1])\n",
				"\t\telif change['new'] < change['old']:\n",
				"\t\t\t# Remove the widgets for the removed sprint (workaround, as clear_output() will not work here, as we are using append_display_data() instead of the 'with out:' syntax)\n",
				"\t\t\tout.outputs = out.outputs[:-3]\n",
				"\n",
				"num_sprints.observe(update_sprints, names='value')\n",
				"\n",
				"display(out)"
			]
		},
		{
			"attachments": {},
			"cell_type": "markdown",
			"metadata": {},
			"source": [
				"This cell contains the logic for the commit heatmap.\n",
				"For a given time interval, the number of commits per day and hour of the day is displayed in a heatmap."
			]
		},
		{
			"cell_type": "code",
			"execution_count": null,
			"metadata": {},
			"outputs": [],
			"source": [
				"# Plot a heatmap for the number of commits per day and hour of the week\n",
				"def plot_commit_heatmap(commit_dates, start_date=None, end_date=None):\n",
				"\t# Convert date objects to datetime objects\n",
				"\tif start_date is not None:\n",
				"\t\tstart_date = datetime.datetime.combine(start_date, datetime.datetime.min.time())\n",
				"\tif end_date is not None:\n",
				"\t\tend_date = datetime.datetime.combine(end_date, datetime.datetime.max.time())\n",
				"\t# Filter the dates to only include those between the start and end dates\n",
				"\t# The dates are already sorted, so we can just filter the beginning and end\n",
				"\tif start_date is not None:\n",
				"\t\tcommit_dates = [date for date in commit_dates if date >= start_date]\n",
				"\tif end_date is not None:\n",
				"\t\tcommit_dates = [date for date in commit_dates if date <= end_date]\n",
				"\t\n",
				"\t# Get the day and hour of each commit\n",
				"\tdays = [date.weekday() for date in commit_dates]\n",
				"\ty_vals = [date.hour for date in commit_dates]\n",
				"\t\n",
				"\t# Create a 2D histogram of the day and hour\n",
				"\theatmap, xedges, yedges = np.histogram2d(days, y_vals, bins=(7, 24))\n",
				"\t\n",
				"\t# Create a plotly figure\n",
				"\tfig = plotly.graph_objs.FigureWidget()\n",
				"\t\n",
				"\t# Add axis labels\n",
				"\tfig.update_layout(\n",
				"\t\txaxis=dict(\n",
				"\t\t\ttitle='Hour of the day',\n",
				"\t\t\ttickmode='array',\n",
				"\t\t\ttickvals=np.arange(0, 24, 2),\n",
				"\t\t\tticktext=np.arange(0, 24, 2)\n",
				"\t\t),\n",
				"\t\tyaxis=dict(\n",
				"\t\t\ttitle='Day of the week',\n",
				"\t\t\ttickmode='array',\n",
				"\t\t\ttickvals=np.arange(0, 7),\n",
				"\t\t\tticktext=['Monday', 'Tuesday', 'Wednesday', 'Thursday', 'Friday', 'Saturday', 'Sunday']\n",
				"\t\t)\n",
				"\t)\n",
				"\t\n",
				"\t# Add a heatmap trace\n",
				"\tfig.add_trace(plotly.graph_objs.Heatmap(\n",
				"\t\tz=heatmap,\n",
				"\t\tx=xedges,\n",
				"\t\ty=yedges,\n",
				"\t\tcolorscale='oranges',\n",
				"\t\tcolorbar=dict(\n",
				"\t\t\ttitle='Commits'\n",
				"\t\t),\n",
				"\t\thoverinfo='z'\n",
				"\t))\n",
				"\t\n",
				"\treturn fig"
			]
		},
		{
			"attachments": {},
			"cell_type": "markdown",
			"metadata": {},
			"source": [
				"This cell handles the display of the heatmap for the given sprints.\n",
				"Only one heatmap is displayed at a time, the sprint for which this is done can be selected using the dropdown menu.\n",
				"If you change the date ranges of the sprints, you *do not* have to re-run this cell.\n",
				"However, you do need to re-run the cell if you have changed the number of sprints, as this is not currently handled automatically."
			]
		},
		{
			"cell_type": "code",
			"execution_count": null,
			"metadata": {},
			"outputs": [],
			"source": [
				"# Add a widget to select the sprint to display\n",
				"sprint_selector = ipywidgets.Dropdown(\n",
				"\toptions=[(sprint_names[i].value, i) for i in range(num_sprints.value)],\n",
				"\tdescription='Sprint:',\n",
				"\tdisabled=False,\n",
				")\n",
				"display(sprint_selector)\n",
				"\n",
				"fig = plot_commit_heatmap(commit_dates, start_dates[sprint_selector.value].value, end_dates[sprint_selector.value].value)\n",
				"fig.update_layout(title=f'Commit timings during {sprint_names[sprint_selector.value].value} ({start_dates[sprint_selector.value].value} - {end_dates[sprint_selector.value].value})')\n",
				"display(fig)\n",
				"\n",
				"def update_sprint(change):\n",
				"\tfig.data[0].z = plot_commit_heatmap(commit_dates, start_dates[change['new']].value, end_dates[change['new']].value).data[0].z\n",
				"\tfig.update_layout(title=f'Commit timings during {sprint_names[change[\"new\"]].value} ({start_dates[change[\"new\"]].value} - {end_dates[change[\"new\"]].value})')\n",
				"\n",
				"sprint_selector.observe(update_sprint, names='value')"
			]
		}
	],
	"metadata": {
		"kernelspec": {
			"display_name": "venv",
			"language": "python",
			"name": "python3"
		},
		"language_info": {
			"codemirror_mode": {
				"name": "ipython",
				"version": 3
			},
			"file_extension": ".py",
			"mimetype": "text/x-python",
			"name": "python",
			"nbconvert_exporter": "python",
			"pygments_lexer": "ipython3",
			"version": "3.9.5"
		},
		"vscode": {
			"interpreter": {
				"hash": "067b78e4a44e8b0a0f6f4f23266782a314d21c0d58909bd8030b6a0c0eed9a04"
			}
		}
	},
	"nbformat": 4,
	"nbformat_minor": 4
}
