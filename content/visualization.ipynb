{
	"cells": [
		{
			"attachments": {},
			"cell_type": "markdown",
			"metadata": {},
			"source": [
				"This notebook is responsible for visualizing the data from the Github API, which should be provided in a serialized format.\n",
				"\n",
				"It must be possible to run this notebook using jupyterlite.\n",
				"\n",
				"If you do not see the newest version of the notebook, you have to \"delete\" it in your jupyterlite instance, as your local version is overriding the remote version provided by the deployment."
			]
		},
		{
			"attachments": {},
			"cell_type": "markdown",
			"metadata": {},
			"source": [
				"(jupyterlite) We need to manually install dependencies for the front-end, even though they are also defined in the `requirements.txt`.\n",
				"\n",
				"TODO: Fixed versions to prevent version-drift."
			]
		},
		{
			"cell_type": "code",
			"execution_count": null,
			"metadata": {},
			"outputs": [],
			"source": [
				"%pip install plotly "
			]
		},
		{
			"cell_type": "code",
			"execution_count": null,
			"metadata": {
				"trusted": true
			},
			"outputs": [],
			"source": [
				"%pip install matplotlib"
			]
		},
		{
			"cell_type": "code",
			"execution_count": null,
			"metadata": {
				"trusted": true
			},
			"outputs": [],
			"source": [
				"%pip install ipywidgets"
			]
		},
		{
			"cell_type": "code",
			"execution_count": null,
			"metadata": {
				"trusted": true
			},
			"outputs": [],
			"source": [
				"import json\n",
				"import datetime\n",
				"import numpy as np\n",
				"import plotly\n",
				"import ipywidgets"
			]
		},
		{
			"cell_type": "code",
			"execution_count": null,
			"metadata": {},
			"outputs": [],
			"source": [
				"with open('commit_dates.json') as f:\n",
				"\tcommit_dates = json.load(f)\n",
				"\t\n",
				"# Convert all the dates to datetime objects\n",
				"commit_dates = [datetime.datetime.strptime(date, '%Y-%m-%d %H:%M:%S') for date in commit_dates]"
			]
		},
		{
			"cell_type": "code",
			"execution_count": null,
			"metadata": {},
			"outputs": [],
			"source": [
				"# Use an ipywidget to set a start and end datetime\n",
				"start_date = ipywidgets.DatePicker(description='Start Date')\n",
				"end_date = ipywidgets.DatePicker(description='End Date')\n",
				"display(start_date, end_date)"
			]
		},
		{
			"cell_type": "code",
			"execution_count": null,
			"metadata": {},
			"outputs": [],
			"source": [
				"# Plot a heatmap for the number of commits per day and hour of the week\n",
				"def plot_heatmap(commit_dates, start_date=None, end_date=None):\n",
				"\tprint(start_date)\n",
				"\tprint(end_date)\n",
				"\t# Convert date objects to datetime objects\n",
				"\tif start_date is not None:\n",
				"\t\tstart_date = datetime.datetime.combine(start_date, datetime.datetime.min.time())\n",
				"\tif end_date is not None:\n",
				"\t\tend_date = datetime.datetime.combine(end_date, datetime.datetime.max.time())\n",
				"\t# Filter the dates to only include those between the start and end dates\n",
				"\t# The dates are already sorted, so we can just filter the beginning and end\n",
				"\tif start_date is not None:\n",
				"\t\tcommit_dates = [date for date in commit_dates if date >= start_date]\n",
				"\tif end_date is not None:\n",
				"\t\tcommit_dates = [date for date in commit_dates if date <= end_date]\n",
				"\t\n",
				"\t# Get the day and hour of each commit\n",
				"\tdays = [date.weekday() for date in commit_dates]\n",
				"\ty_vals = [date.hour for date in commit_dates]\n",
				"\t\n",
				"\t# Create a 2D histogram of the day and hour\n",
				"\theatmap, xedges, yedges = np.histogram2d(days, y_vals, bins=(7, 24))\n",
				"\t\n",
				"\t# Create a plotly figure\n",
				"\tfig = plotly.graph_objs.FigureWidget()\n",
				"\t\n",
				"\t# Add a heatmap trace\n",
				"\tfig.add_trace(plotly.graph_objs.Heatmap(\n",
				"\t\tz=heatmap,\n",
				"\t\tx=xedges,\n",
				"\t\ty=yedges,\n",
				"\t\tcolorscale='oranges',\n",
				"\t\tcolorbar=dict(\n",
				"\t\t\ttitle='Commits'\n",
				"\t\t),\n",
				"\t\thoverinfo='z'\n",
				"\t))\n",
				"\t\n",
				"\t# Add axis labels\n",
				"\tfig.update_layout(\n",
				"\t\txaxis=dict(\n",
				"\t\t\ttitle='Hour of the day',\n",
				"\t\t\ttickmode='array',\n",
				"\t\t\ttickvals=np.arange(0, 24, 2),\n",
				"\t\t\tticktext=np.arange(0, 24, 2)\n",
				"\t\t),\n",
				"\t\tyaxis=dict(\n",
				"\t\t\ttitle='Day of the week',\n",
				"\t\t\ttickmode='array',\n",
				"\t\t\ttickvals=np.arange(0, 7),\n",
				"\t\t\tticktext=['Monday', 'Tuesday', 'Wednesday', 'Thursday', 'Friday', 'Saturday', 'Sunday']\n",
				"\t\t)\n",
				"\t)\n",
				"\t\n",
				"\treturn fig\n",
				"\n",
				"plot_heatmap(commit_dates, start_date.value, end_date.value)"
			]
		}
	],
	"metadata": {
		"kernelspec": {
			"display_name": "venv",
			"language": "python",
			"name": "python3"
		},
		"language_info": {
			"codemirror_mode": {
				"name": "ipython",
				"version": 3
			},
			"file_extension": ".py",
			"mimetype": "text/x-python",
			"name": "python",
			"nbconvert_exporter": "python",
			"pygments_lexer": "ipython3",
			"version": "3.9.5"
		},
		"vscode": {
			"interpreter": {
				"hash": "067b78e4a44e8b0a0f6f4f23266782a314d21c0d58909bd8030b6a0c0eed9a04"
			}
		}
	},
	"nbformat": 4,
	"nbformat_minor": 4
}
