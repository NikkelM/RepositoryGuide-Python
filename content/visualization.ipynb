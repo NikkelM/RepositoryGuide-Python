{
	"cells": [
		{
			"attachments": {},
			"cell_type": "markdown",
			"metadata": {},
			"source": [
				"This notebook is responsible for visualizing the data from the Github API, which should be provided in a serialized format.\n",
				"\n",
				"It must be possible to run this notebook using jupyterlite.\n",
				"\n",
				"If you do not see the newest version of the notebook, you have to \"delete\" it in your jupyterlite instance, as your local version is overriding the remote version provided by the deployment."
			]
		},
		{
			"attachments": {},
			"cell_type": "markdown",
			"metadata": {},
			"source": [
				"(jupyterlite) We need to manually install dependencies for the front-end, even though they are also defined in the `requirements.txt`.\n",
				"\n",
				"TODO: Fixed versions to prevent version-drift."
			]
		},
		{
			"attachments": {},
			"cell_type": "markdown",
			"metadata": {},
			"source": [
				"### Troubleshooting:\n",
				"\n",
				"#### `commits.json` cannot be found when loading\n",
				"\n",
				"This likely occurred because the backend and frontend of jupyterlite are out of sync. As a workaround, delete the cache/cookies for the page and reload it.\n",
				"Note that you this will reset all notebooks to their versions saved on Github, so download your notebooks if necessary.\n",
				"You will also have to re-run the notebooks."
			]
		},
		{
			"cell_type": "code",
			"execution_count": null,
			"metadata": {},
			"outputs": [],
			"source": [
				"%pip install plotly matplotlib ipywidgets"
			]
		},
		{
			"cell_type": "code",
			"execution_count": 1,
			"metadata": {
				"trusted": true
			},
			"outputs": [],
			"source": [
				"import json\n",
				"import datetime\n",
				"import numpy as np\n",
				"import plotly\n",
				"import ipywidgets"
			]
		},
		{
			"attachments": {},
			"cell_type": "markdown",
			"metadata": {},
			"source": [
				"Note: We can use the file upload widget instead of requiring the user to already have uploaded the file to jupyterlite."
			]
		},
		{
			"cell_type": "code",
			"execution_count": 2,
			"metadata": {},
			"outputs": [],
			"source": [
				"# Read the commit data from 'commits.json'\n",
				"with open('commits.json') as f:\n",
				"\tcommits = json.load(f)"
			]
		},
		{
			"cell_type": "code",
			"execution_count": 3,
			"metadata": {},
			"outputs": [],
			"source": [
				"# Convert all the commit dates to datetime objects for easier handling\n",
				"commit_dates = [datetime.datetime.strptime(commit['author']['date'], '%Y-%m-%dT%H:%M:%SZ') for commit in commits]"
			]
		},
		{
			"cell_type": "code",
			"execution_count": 11,
			"metadata": {},
			"outputs": [
				{
					"data": {
						"application/vnd.jupyter.widget-view+json": {
							"model_id": "38c106a629f34b25a0fd9cb36dc0e7f4",
							"version_major": 2,
							"version_minor": 0
						},
						"text/plain": [
							"IntSlider(value=1, description='No. of sprints', max=10, min=1)"
						]
					},
					"metadata": {},
					"output_type": "display_data"
				}
			],
			"source": [
				"# Setting up the number of sprints\n",
				"num_sprints = ipywidgets.IntSlider(min=1, max=10, step=1, description='No. of sprints')\n",
				"display(num_sprints)"
			]
		},
		{
			"cell_type": "code",
			"execution_count": 14,
			"metadata": {},
			"outputs": [
				{
					"name": "stdout",
					"output_type": "stream",
					"text": [
						"Set a name and the start and end dates for each sprint below:\n"
					]
				},
				{
					"data": {
						"application/vnd.jupyter.widget-view+json": {
							"model_id": "e71cc24958084f89b7e0563dcab2fcee",
							"version_major": 2,
							"version_minor": 0
						},
						"text/plain": [
							"Text(value='Sprint 1', description='Sprint Name:', placeholder='Set the name for this Sprint')"
						]
					},
					"metadata": {},
					"output_type": "display_data"
				},
				{
					"data": {
						"application/vnd.jupyter.widget-view+json": {
							"model_id": "cbc2bbf65cf949718b13d86f6a639b12",
							"version_major": 2,
							"version_minor": 0
						},
						"text/plain": [
							"DatePicker(value=None, description='Start Date', step=1)"
						]
					},
					"metadata": {},
					"output_type": "display_data"
				},
				{
					"data": {
						"application/vnd.jupyter.widget-view+json": {
							"model_id": "78350f4cef574918a99141424fdebdfe",
							"version_major": 2,
							"version_minor": 0
						},
						"text/plain": [
							"DatePicker(value=None, description='End Date', step=1)"
						]
					},
					"metadata": {},
					"output_type": "display_data"
				},
				{
					"data": {
						"application/vnd.jupyter.widget-view+json": {
							"model_id": "538cf18262a141d89a05956585d7c30d",
							"version_major": 2,
							"version_minor": 0
						},
						"text/plain": [
							"Text(value='Sprint 2', description='Sprint Name:', placeholder='Set the name for this Sprint')"
						]
					},
					"metadata": {},
					"output_type": "display_data"
				},
				{
					"data": {
						"application/vnd.jupyter.widget-view+json": {
							"model_id": "d289f089131f4c24b78d41e34f028acb",
							"version_major": 2,
							"version_minor": 0
						},
						"text/plain": [
							"DatePicker(value=None, description='Start Date', step=1)"
						]
					},
					"metadata": {},
					"output_type": "display_data"
				},
				{
					"data": {
						"application/vnd.jupyter.widget-view+json": {
							"model_id": "62aefa52e041491284711deafe412dde",
							"version_major": 2,
							"version_minor": 0
						},
						"text/plain": [
							"DatePicker(value=None, description='End Date', step=1)"
						]
					},
					"metadata": {},
					"output_type": "display_data"
				}
			],
			"source": [
				"# TODO: It would be optimal to be able to auto-refresh this cell if the one above is changed (== the number of sprints)\n",
				"# Use an ipywidget to set a start and end datetime for each sprint\n",
				"print('Set a name and the start and end dates for each sprint below:')\n",
				"\n",
				"sprint_names = []\n",
				"start_dates = []\n",
				"end_dates = []\n",
				"\n",
				"for i in range(num_sprints.value):\n",
				"\tsprint_names.append(ipywidgets.Text(value=f'Sprint {i+1}', placeholder='Set the name for this Sprint', description='Sprint Name:'))\n",
				"\tstart_dates.append(ipywidgets.DatePicker(description='Start Date'))\n",
				"\tend_dates.append(ipywidgets.DatePicker(description='End Date'))\n",
				"\tdisplay(sprint_names[i], start_dates[i], end_dates[i])\n"
			]
		},
		{
			"cell_type": "code",
			"execution_count": 35,
			"metadata": {},
			"outputs": [],
			"source": [
				"# Plot a heatmap for the number of commits per day and hour of the week\n",
				"def plot_commit_heatmap(commit_dates, start_date=None, end_date=None):\n",
				"\t# Convert date objects to datetime objects\n",
				"\tif start_date is not None:\n",
				"\t\tstart_date = datetime.datetime.combine(start_date, datetime.datetime.min.time())\n",
				"\tif end_date is not None:\n",
				"\t\tend_date = datetime.datetime.combine(end_date, datetime.datetime.max.time())\n",
				"\t# Filter the dates to only include those between the start and end dates\n",
				"\t# The dates are already sorted, so we can just filter the beginning and end\n",
				"\tif start_date is not None:\n",
				"\t\tcommit_dates = [date for date in commit_dates if date >= start_date]\n",
				"\tif end_date is not None:\n",
				"\t\tcommit_dates = [date for date in commit_dates if date <= end_date]\n",
				"\t\n",
				"\t# Get the day and hour of each commit\n",
				"\tdays = [date.weekday() for date in commit_dates]\n",
				"\ty_vals = [date.hour for date in commit_dates]\n",
				"\t\n",
				"\t# Create a 2D histogram of the day and hour\n",
				"\theatmap, xedges, yedges = np.histogram2d(days, y_vals, bins=(7, 24))\n",
				"\t\n",
				"\t# Create a plotly figure\n",
				"\tfig = plotly.graph_objs.FigureWidget()\n",
				"\t\n",
				"\t# Add axis labels\n",
				"\tfig.update_layout(\n",
				"\t\txaxis=dict(\n",
				"\t\t\ttitle='Hour of the day',\n",
				"\t\t\ttickmode='array',\n",
				"\t\t\ttickvals=np.arange(0, 24, 2),\n",
				"\t\t\tticktext=np.arange(0, 24, 2)\n",
				"\t\t),\n",
				"\t\tyaxis=dict(\n",
				"\t\t\ttitle='Day of the week',\n",
				"\t\t\ttickmode='array',\n",
				"\t\t\ttickvals=np.arange(0, 7),\n",
				"\t\t\tticktext=['Monday', 'Tuesday', 'Wednesday', 'Thursday', 'Friday', 'Saturday', 'Sunday']\n",
				"\t\t)\n",
				"\t)\n",
				"\t\n",
				"\t# Add a heatmap trace\n",
				"\tfig.add_trace(plotly.graph_objs.Heatmap(\n",
				"\t\tz=heatmap,\n",
				"\t\tx=xedges,\n",
				"\t\ty=yedges,\n",
				"\t\tcolorscale='oranges',\n",
				"\t\tcolorbar=dict(\n",
				"\t\t\ttitle='Commits'\n",
				"\t\t),\n",
				"\t\thoverinfo='z'\n",
				"\t))\n",
				"\t\n",
				"\treturn fig"
			]
		},
		{
			"cell_type": "code",
			"execution_count": 48,
			"metadata": {},
			"outputs": [
				{
					"data": {
						"application/vnd.jupyter.widget-view+json": {
							"model_id": "de0e7100b8e44c6db3075a149c8aaec1",
							"version_major": 2,
							"version_minor": 0
						},
						"text/plain": [
							"Dropdown(description='Sprint:', options=(('Sprint 1', 0), ('Sprint 2', 1)), value=0)"
						]
					},
					"metadata": {},
					"output_type": "display_data"
				},
				{
					"data": {
						"application/vnd.jupyter.widget-view+json": {
							"model_id": "70a0f5f0283145d5a23f13639085daad",
							"version_major": 2,
							"version_minor": 0
						},
						"text/plain": [
							"FigureWidget({\n",
							"    'data': [{'colorbar': {'title': {'text': 'Commits'}},\n",
							"              'colorscale': [[0.0, 'rgb(255,245,235)'], [0.125,\n",
							"                             'rgb(254,230,206)'], [0.25, 'rgb(253,208,162)'],\n",
							"                             [0.375, 'rgb(253,174,107)'], [0.5, 'rgb(253,141,60)'],\n",
							"                             [0.625, 'rgb(241,105,19)'], [0.75, 'rgb(217,72,1)'],\n",
							"                             [0.875, 'rgb(166,54,3)'], [1.0, 'rgb(127,39,4)']],\n",
							"              'hoverinfo': 'z',\n",
							"              'type': 'heatmap',\n",
							"              'uid': '7a5dd7a5-1a5b-4498-87ee-1e862f9199fc',\n",
							"              'x': array([0.        , 0.85714286, 1.71428571, 2.57142857, 3.42857143, 4.28571429,\n",
							"                          5.14285714, 6.        ]),\n",
							"              'y': array([ 0.        ,  0.95833333,  1.91666667,  2.875     ,  3.83333333,\n",
							"                           4.79166667,  5.75      ,  6.70833333,  7.66666667,  8.625     ,\n",
							"                           9.58333333, 10.54166667, 11.5       , 12.45833333, 13.41666667,\n",
							"                          14.375     , 15.33333333, 16.29166667, 17.25      , 18.20833333,\n",
							"                          19.16666667, 20.125     , 21.08333333, 22.04166667, 23.        ]),\n",
							"              'z': array([[ 0.,  0.,  0.,  0.,  0.,  0.,  0.,  0.,  1.,  4.,  4.,  5.,  8.,  9.,\n",
							"                            4., 11.,  2.,  2.,  0.,  1.,  0.,  2.,  7.,  0.],\n",
							"                          [ 0.,  0.,  0.,  0.,  0.,  0.,  0.,  0.,  2.,  2., 10.,  7.,  8.,  8.,\n",
							"                            7.,  9.,  5., 10.,  2.,  5.,  2.,  4.,  7.,  0.],\n",
							"                          [ 0.,  0.,  0.,  0.,  0.,  0.,  0.,  0.,  1.,  7., 11.,  8.,  8., 22.,\n",
							"                           21.,  4.,  4.,  5.,  2.,  3.,  3.,  2.,  0.,  2.],\n",
							"                          [ 2.,  0.,  0.,  0.,  0.,  0.,  0.,  0.,  6.,  3.,  1.,  0.,  4.,  5.,\n",
							"                            4.,  5.,  2.,  3.,  0.,  0.,  0.,  1.,  0.,  0.],\n",
							"                          [ 1.,  0.,  0.,  0.,  0.,  0.,  0.,  2.,  0.,  3.,  2.,  3.,  1.,  2.,\n",
							"                            5.,  8.,  5.,  2.,  4.,  0.,  0.,  0.,  3.,  0.],\n",
							"                          [ 0.,  0.,  0.,  0.,  0.,  0.,  0.,  0.,  0.,  0.,  1.,  5.,  1.,  3.,\n",
							"                            5.,  0.,  1.,  6.,  2.,  6.,  1.,  0.,  1.,  0.],\n",
							"                          [ 0.,  0.,  0.,  0.,  0.,  0.,  0.,  0.,  0.,  0.,  0.,  1.,  2.,  3.,\n",
							"                            1.,  1.,  0.,  0.,  0.,  1.,  3.,  2.,  0.,  0.]])}],\n",
							"    'layout': {'template': '...',\n",
							"               'title': {'text': 'Commit timings during Sprint 1 (2022-01-01 - 2022-12-31)'},\n",
							"               'xaxis': {'tickmode': 'array',\n",
							"                         'ticktext': array([ 0,  2,  4,  6,  8, 10, 12, 14, 16, 18, 20, 22]),\n",
							"                         'tickvals': array([ 0,  2,  4,  6,  8, 10, 12, 14, 16, 18, 20, 22]),\n",
							"                         'title': {'text': 'Hour of the day'}},\n",
							"               'yaxis': {'tickmode': 'array',\n",
							"                         'ticktext': [Monday, Tuesday, Wednesday, Thursday,\n",
							"                                      Friday, Saturday, Sunday],\n",
							"                         'tickvals': array([0, 1, 2, 3, 4, 5, 6]),\n",
							"                         'title': {'text': 'Day of the week'}}}\n",
							"})"
						]
					},
					"metadata": {},
					"output_type": "display_data"
				}
			],
			"source": [
				"# Add a widget to select the sprint to display\n",
				"sprint_selector = ipywidgets.Dropdown(\n",
				"\toptions=[(sprint_names[i].value, i) for i in range(num_sprints.value)],\n",
				"\tdescription='Sprint:',\n",
				"\tdisabled=False,\n",
				")\n",
				"display(sprint_selector)\n",
				"\n",
				"fig = plot_commit_heatmap(commit_dates, start_dates[sprint_selector.value].value, end_dates[sprint_selector.value].value)\n",
				"fig.update_layout(title=f'Commit timings during {sprint_names[sprint_selector.value].value} ({start_dates[sprint_selector.value].value} - {end_dates[sprint_selector.value].value})')\n",
				"display(fig)\n",
				"\n",
				"def update_sprint(change):\n",
				"\tfig.data[0].z = plot_commit_heatmap(commit_dates, start_dates[change['new']].value, end_dates[change['new']].value).data[0].z\n",
				"\tfig.update_layout(title=f'Commit timings during {sprint_names[change[\"new\"]].value} ({start_dates[change[\"new\"]].value} - {end_dates[change[\"new\"]].value})')\n",
				"\n",
				"sprint_selector.observe(update_sprint, names='value')\n"
			]
		}
	],
	"metadata": {
		"kernelspec": {
			"display_name": "venv",
			"language": "python",
			"name": "python3"
		},
		"language_info": {
			"codemirror_mode": {
				"name": "ipython",
				"version": 3
			},
			"file_extension": ".py",
			"mimetype": "text/x-python",
			"name": "python",
			"nbconvert_exporter": "python",
			"pygments_lexer": "ipython3",
			"version": "3.9.5"
		},
		"vscode": {
			"interpreter": {
				"hash": "067b78e4a44e8b0a0f6f4f23266782a314d21c0d58909bd8030b6a0c0eed9a04"
			}
		}
	},
	"nbformat": 4,
	"nbformat_minor": 4
}
