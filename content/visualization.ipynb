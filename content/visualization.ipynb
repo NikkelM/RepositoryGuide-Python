{
	"cells": [
		{
			"attachments": {},
			"cell_type": "markdown",
			"metadata": {},
			"source": [
				"This notebook is responsible for visualizing the data from the Github API, which should be provided in a serialized format.\n",
				"\n",
				"It must be possible to run this notebook using jupyterlite."
			]
		},
		{
			"attachments": {},
			"cell_type": "markdown",
			"metadata": {},
			"source": [
				"(jupyterlite) We need to manually install dependencies for the front-end, even though they are also defined in the `requirements.txt`.\n",
				"\n",
				"TODO: Fixed versions to prevent version-drift."
			]
		},
		{
			"cell_type": "code",
			"execution_count": 2,
			"metadata": {},
			"outputs": [
				{
					"name": "stdout",
					"output_type": "stream",
					"text": [
						"Requirement already satisfied: plotly in f:\\users\\nikke\\onedrive\\privat\\projects\\repositoryguide-python\\venv\\lib\\site-packages (5.13.0)\n",
						"Requirement already satisfied: tenacity>=6.2.0 in f:\\users\\nikke\\onedrive\\privat\\projects\\repositoryguide-python\\venv\\lib\\site-packages (from plotly) (8.2.1)\n",
						"Note: you may need to restart the kernel to use updated packages.\n"
					]
				}
			],
			"source": [
				"%pip install plotly "
			]
		},
		{
			"cell_type": "code",
			"execution_count": 3,
			"metadata": {
				"trusted": true
			},
			"outputs": [
				{
					"name": "stdout",
					"output_type": "stream",
					"text": [
						"Requirement already satisfied: matplotlib in f:\\users\\nikke\\onedrive\\privat\\projects\\repositoryguide-python\\venv\\lib\\site-packages (3.7.0)\n",
						"Requirement already satisfied: kiwisolver>=1.0.1 in f:\\users\\nikke\\onedrive\\privat\\projects\\repositoryguide-python\\venv\\lib\\site-packages (from matplotlib) (1.4.4)\n",
						"Requirement already satisfied: python-dateutil>=2.7 in f:\\users\\nikke\\onedrive\\privat\\projects\\repositoryguide-python\\venv\\lib\\site-packages (from matplotlib) (2.8.2)\n",
						"Requirement already satisfied: numpy>=1.20 in f:\\users\\nikke\\onedrive\\privat\\projects\\repositoryguide-python\\venv\\lib\\site-packages (from matplotlib) (1.24.2)\n",
						"Requirement already satisfied: cycler>=0.10 in f:\\users\\nikke\\onedrive\\privat\\projects\\repositoryguide-python\\venv\\lib\\site-packages (from matplotlib) (0.11.0)\n",
						"Requirement already satisfied: fonttools>=4.22.0 in f:\\users\\nikke\\onedrive\\privat\\projects\\repositoryguide-python\\venv\\lib\\site-packages (from matplotlib) (4.38.0)\n",
						"Requirement already satisfied: importlib-resources>=3.2.0 in f:\\users\\nikke\\onedrive\\privat\\projects\\repositoryguide-python\\venv\\lib\\site-packages (from matplotlib) (5.10.2)\n",
						"Requirement already satisfied: contourpy>=1.0.1 in f:\\users\\nikke\\onedrive\\privat\\projects\\repositoryguide-python\\venv\\lib\\site-packages (from matplotlib) (1.0.7)\n",
						"Requirement already satisfied: pyparsing>=2.3.1 in f:\\users\\nikke\\onedrive\\privat\\projects\\repositoryguide-python\\venv\\lib\\site-packages (from matplotlib) (3.0.9)\n",
						"Requirement already satisfied: packaging>=20.0 in f:\\users\\nikke\\onedrive\\privat\\projects\\repositoryguide-python\\venv\\lib\\site-packages (from matplotlib) (23.0)\n",
						"Requirement already satisfied: pillow>=6.2.0 in f:\\users\\nikke\\onedrive\\privat\\projects\\repositoryguide-python\\venv\\lib\\site-packages (from matplotlib) (9.4.0)\n",
						"Requirement already satisfied: zipp>=3.1.0 in f:\\users\\nikke\\onedrive\\privat\\projects\\repositoryguide-python\\venv\\lib\\site-packages (from importlib-resources>=3.2.0->matplotlib) (3.13.0)\n",
						"Requirement already satisfied: six>=1.5 in f:\\users\\nikke\\onedrive\\privat\\projects\\repositoryguide-python\\venv\\lib\\site-packages (from python-dateutil>=2.7->matplotlib) (1.16.0)\n",
						"Note: you may need to restart the kernel to use updated packages.\n"
					]
				}
			],
			"source": [
				"%pip install matplotlib"
			]
		},
		{
			"cell_type": "code",
			"execution_count": 4,
			"metadata": {
				"trusted": true
			},
			"outputs": [
				{
					"name": "stdout",
					"output_type": "stream",
					"text": [
						"Requirement already satisfied: ipywidgets in f:\\users\\nikke\\onedrive\\privat\\projects\\repositoryguide-python\\venv\\lib\\site-packages (8.0.3)\n",
						"Requirement already satisfied: widgetsnbextension~=4.0 in f:\\users\\nikke\\onedrive\\privat\\projects\\repositoryguide-python\\venv\\lib\\site-packages (from ipywidgets) (4.0.5)\n",
						"Requirement already satisfied: traitlets>=4.3.1 in f:\\users\\nikke\\onedrive\\privat\\projects\\repositoryguide-python\\venv\\lib\\site-packages (from ipywidgets) (5.9.0)\n",
						"Requirement already satisfied: jupyterlab-widgets~=3.0 in f:\\users\\nikke\\onedrive\\privat\\projects\\repositoryguide-python\\venv\\lib\\site-packages (from ipywidgets) (3.0.5)\n",
						"Requirement already satisfied: ipython>=6.1.0 in f:\\users\\nikke\\onedrive\\privat\\projects\\repositoryguide-python\\venv\\lib\\site-packages (from ipywidgets) (7.30.1)\n",
						"Requirement already satisfied: ipykernel>=4.5.1 in f:\\users\\nikke\\onedrive\\privat\\projects\\repositoryguide-python\\venv\\lib\\site-packages (from ipywidgets) (6.6.0)\n",
						"Requirement already satisfied: jupyter-client<8.0 in f:\\users\\nikke\\onedrive\\privat\\projects\\repositoryguide-python\\venv\\lib\\site-packages (from ipykernel>=4.5.1->ipywidgets) (7.4.9)\n",
						"Requirement already satisfied: matplotlib-inline<0.2.0,>=0.1.0 in f:\\users\\nikke\\onedrive\\privat\\projects\\repositoryguide-python\\venv\\lib\\site-packages (from ipykernel>=4.5.1->ipywidgets) (0.1.6)\n",
						"Requirement already satisfied: tornado<7.0,>=4.2 in f:\\users\\nikke\\onedrive\\privat\\projects\\repositoryguide-python\\venv\\lib\\site-packages (from ipykernel>=4.5.1->ipywidgets) (6.2)\n",
						"Requirement already satisfied: debugpy<2.0,>=1.0.0 in f:\\users\\nikke\\onedrive\\privat\\projects\\repositoryguide-python\\venv\\lib\\site-packages (from ipykernel>=4.5.1->ipywidgets) (1.6.6)\n",
						"Requirement already satisfied: decorator in f:\\users\\nikke\\onedrive\\privat\\projects\\repositoryguide-python\\venv\\lib\\site-packages (from ipython>=6.1.0->ipywidgets) (5.1.1)\n",
						"Requirement already satisfied: jedi>=0.16 in f:\\users\\nikke\\onedrive\\privat\\projects\\repositoryguide-python\\venv\\lib\\site-packages (from ipython>=6.1.0->ipywidgets) (0.18.2)\n",
						"Requirement already satisfied: backcall in f:\\users\\nikke\\onedrive\\privat\\projects\\repositoryguide-python\\venv\\lib\\site-packages (from ipython>=6.1.0->ipywidgets) (0.2.0)\n",
						"Requirement already satisfied: pickleshare in f:\\users\\nikke\\onedrive\\privat\\projects\\repositoryguide-python\\venv\\lib\\site-packages (from ipython>=6.1.0->ipywidgets) (0.7.5)\n",
						"Requirement already satisfied: colorama in f:\\users\\nikke\\onedrive\\privat\\projects\\repositoryguide-python\\venv\\lib\\site-packages (from ipython>=6.1.0->ipywidgets) (0.4.6)\n",
						"Requirement already satisfied: prompt-toolkit!=3.0.0,!=3.0.1,<3.1.0,>=2.0.0 in f:\\users\\nikke\\onedrive\\privat\\projects\\repositoryguide-python\\venv\\lib\\site-packages (from ipython>=6.1.0->ipywidgets) (3.0.36)\n",
						"Requirement already satisfied: setuptools>=18.5 in f:\\users\\nikke\\onedrive\\privat\\projects\\repositoryguide-python\\venv\\lib\\site-packages (from ipython>=6.1.0->ipywidgets) (56.0.0)\n",
						"Requirement already satisfied: pygments in f:\\users\\nikke\\onedrive\\privat\\projects\\repositoryguide-python\\venv\\lib\\site-packages (from ipython>=6.1.0->ipywidgets) (2.14.0)\n",
						"Requirement already satisfied: parso<0.9.0,>=0.8.0 in f:\\users\\nikke\\onedrive\\privat\\projects\\repositoryguide-python\\venv\\lib\\site-packages (from jedi>=0.16->ipython>=6.1.0->ipywidgets) (0.8.3)\n",
						"Requirement already satisfied: python-dateutil>=2.8.2 in f:\\users\\nikke\\onedrive\\privat\\projects\\repositoryguide-python\\venv\\lib\\site-packages (from jupyter-client<8.0->ipykernel>=4.5.1->ipywidgets) (2.8.2)\n",
						"Requirement already satisfied: entrypoints in f:\\users\\nikke\\onedrive\\privat\\projects\\repositoryguide-python\\venv\\lib\\site-packages (from jupyter-client<8.0->ipykernel>=4.5.1->ipywidgets) (0.4)\n",
						"Requirement already satisfied: nest-asyncio>=1.5.4 in f:\\users\\nikke\\onedrive\\privat\\projects\\repositoryguide-python\\venv\\lib\\site-packages (from jupyter-client<8.0->ipykernel>=4.5.1->ipywidgets) (1.5.6)\n",
						"Requirement already satisfied: jupyter-core>=4.9.2 in f:\\users\\nikke\\onedrive\\privat\\projects\\repositoryguide-python\\venv\\lib\\site-packages (from jupyter-client<8.0->ipykernel>=4.5.1->ipywidgets) (5.2.0)\n",
						"Requirement already satisfied: pyzmq>=23.0 in f:\\users\\nikke\\onedrive\\privat\\projects\\repositoryguide-python\\venv\\lib\\site-packages (from jupyter-client<8.0->ipykernel>=4.5.1->ipywidgets) (25.0.0)\n",
						"Requirement already satisfied: wcwidth in f:\\users\\nikke\\onedrive\\privat\\projects\\repositoryguide-python\\venv\\lib\\site-packages (from prompt-toolkit!=3.0.0,!=3.0.1,<3.1.0,>=2.0.0->ipython>=6.1.0->ipywidgets) (0.2.6)\n",
						"Requirement already satisfied: pywin32>=1.0 in f:\\users\\nikke\\onedrive\\privat\\projects\\repositoryguide-python\\venv\\lib\\site-packages (from jupyter-core>=4.9.2->jupyter-client<8.0->ipykernel>=4.5.1->ipywidgets) (305)\n",
						"Requirement already satisfied: platformdirs>=2.5 in f:\\users\\nikke\\onedrive\\privat\\projects\\repositoryguide-python\\venv\\lib\\site-packages (from jupyter-core>=4.9.2->jupyter-client<8.0->ipykernel>=4.5.1->ipywidgets) (3.0.0)\n",
						"Requirement already satisfied: six>=1.5 in f:\\users\\nikke\\onedrive\\privat\\projects\\repositoryguide-python\\venv\\lib\\site-packages (from python-dateutil>=2.8.2->jupyter-client<8.0->ipykernel>=4.5.1->ipywidgets) (1.16.0)\n",
						"Note: you may need to restart the kernel to use updated packages.\n"
					]
				}
			],
			"source": [
				"%pip install ipywidgets"
			]
		},
		{
			"cell_type": "code",
			"execution_count": 41,
			"metadata": {
				"trusted": true
			},
			"outputs": [],
			"source": [
				"import json\n",
				"import datetime\n",
				"import numpy as np\n",
				"import plotly\n",
				"import ipywidgets"
			]
		},
		{
			"cell_type": "code",
			"execution_count": 43,
			"metadata": {},
			"outputs": [],
			"source": [
				"with open('commit_dates.json') as f:\n",
				"\tcommit_dates = json.load(f)\n",
				"\t\n",
				"# Convert all the dates to datetime objects\n",
				"commit_dates = [datetime.datetime.strptime(date, '%Y-%m-%d %H:%M:%S') for date in commit_dates]"
			]
		},
		{
			"cell_type": "code",
			"execution_count": 70,
			"metadata": {},
			"outputs": [
				{
					"data": {
						"application/vnd.jupyter.widget-view+json": {
							"model_id": "1d006da701fb455d92534e50af2b8afd",
							"version_major": 2,
							"version_minor": 0
						},
						"text/plain": [
							"FigureWidget({\n",
							"    'data': [{'colorbar': {'title': {'text': 'Commits'}},\n",
							"              'colorscale': [[0.0, 'rgb(255,245,235)'], [0.125,\n",
							"                             'rgb(254,230,206)'], [0.25, 'rgb(253,208,162)'],\n",
							"                             [0.375, 'rgb(253,174,107)'], [0.5, 'rgb(253,141,60)'],\n",
							"                             [0.625, 'rgb(241,105,19)'], [0.75, 'rgb(217,72,1)'],\n",
							"                             [0.875, 'rgb(166,54,3)'], [1.0, 'rgb(127,39,4)']],\n",
							"              'hoverinfo': 'z',\n",
							"              'type': 'heatmap',\n",
							"              'uid': 'a4fbb029-6d34-4a00-bf16-00a64350835e',\n",
							"              'x': array([0.        , 0.85714286, 1.71428571, 2.57142857, 3.42857143, 4.28571429,\n",
							"                          5.14285714, 6.        ]),\n",
							"              'y': array([ 0.        ,  0.95833333,  1.91666667,  2.875     ,  3.83333333,\n",
							"                           4.79166667,  5.75      ,  6.70833333,  7.66666667,  8.625     ,\n",
							"                           9.58333333, 10.54166667, 11.5       , 12.45833333, 13.41666667,\n",
							"                          14.375     , 15.33333333, 16.29166667, 17.25      , 18.20833333,\n",
							"                          19.16666667, 20.125     , 21.08333333, 22.04166667, 23.        ]),\n",
							"              'z': array([[ 0.,  0.,  0.,  0.,  0.,  0.,  0.,  0.,  4.,  9., 12., 16., 16., 25.,\n",
							"                           19., 15.,  9.,  5., 11.,  2.,  5., 13.,  8.,  1.],\n",
							"                          [ 0.,  0.,  0.,  0.,  0.,  0.,  0.,  0.,  6.,  5., 11., 12., 13., 13.,\n",
							"                           14., 19.,  7., 15.,  3.,  7.,  3.,  6.,  8.,  3.],\n",
							"                          [ 0.,  0.,  0.,  0.,  0.,  0.,  0.,  0.,  2., 16., 16., 16., 24., 60.,\n",
							"                           42., 23., 21., 15., 13.,  7.,  8.,  5.,  4.,  2.],\n",
							"                          [ 2.,  0.,  0.,  0.,  0.,  0.,  0.,  0.,  6., 10., 21.,  9., 21., 19.,\n",
							"                           26., 16., 12., 14., 10., 10.,  8.,  6.,  4.,  0.],\n",
							"                          [ 2.,  2.,  0.,  0.,  0.,  0.,  0.,  2.,  2.,  7.,  6.,  5.,  6., 17.,\n",
							"                           20., 10.,  7.,  3.,  5.,  0.,  0.,  0.,  5.,  0.],\n",
							"                          [ 0.,  0.,  0.,  0.,  0.,  0.,  0.,  0.,  0.,  0.,  1.,  5.,  2.,  5.,\n",
							"                            8.,  6.,  3.,  8.,  7.,  7.,  1.,  2.,  3.,  0.],\n",
							"                          [ 0.,  0.,  0.,  0.,  0.,  0.,  0.,  0.,  0.,  0.,  0.,  3.,  2., 13.,\n",
							"                            9., 11.,  9.,  1.,  2.,  5.,  5.,  2.,  2.,  3.]])}],\n",
							"    'layout': {'template': '...',\n",
							"               'xaxis': {'tickmode': 'array',\n",
							"                         'ticktext': array([ 0,  2,  4,  6,  8, 10, 12, 14, 16, 18, 20, 22]),\n",
							"                         'tickvals': array([ 0,  2,  4,  6,  8, 10, 12, 14, 16, 18, 20, 22]),\n",
							"                         'title': {'text': 'Hour of the day'}},\n",
							"               'yaxis': {'tickmode': 'array',\n",
							"                         'ticktext': [Monday, Tuesday, Wednesday, Thursday,\n",
							"                                      Friday, Saturday, Sunday],\n",
							"                         'tickvals': array([0, 1, 2, 3, 4, 5, 6]),\n",
							"                         'title': {'text': 'Day of the week'}}}\n",
							"})"
						]
					},
					"execution_count": 70,
					"metadata": {},
					"output_type": "execute_result"
				}
			],
			"source": [
				"# Plot a heatmap for the number of commits per day and hour of the week\n",
				"def plot_heatmap(commit_dates):\n",
				"\t# Get the day and hour of each commit\n",
				"\tdays = [date.weekday() for date in commit_dates]\n",
				"\ty_vals = [date.hour for date in commit_dates]\n",
				"\t\n",
				"\t# Create a 2D histogram of the day and hour\n",
				"\theatmap, xedges, yedges = np.histogram2d(days, y_vals, bins=(7, 24))\n",
				"\t\n",
				"\t# Create a plotly figure\n",
				"\tfig = plotly.graph_objs.FigureWidget()\n",
				"\t\n",
				"\t# Add a heatmap trace\n",
				"\tfig.add_trace(plotly.graph_objs.Heatmap(\n",
				"\t\tz=heatmap,\n",
				"\t\tx=xedges,\n",
				"\t\ty=yedges,\n",
				"\t\tcolorscale='oranges',\n",
				"\t\tcolorbar=dict(\n",
				"\t\t\ttitle='Commits'\n",
				"\t\t),\n",
				"\t\thoverinfo='z'\n",
				"\t))\n",
				"\t\n",
				"\t# Add axis labels\n",
				"\tfig.update_layout(\n",
				"\t\txaxis=dict(\n",
				"\t\t\ttitle='Hour of the day',\n",
				"\t\t\ttickmode='array',\n",
				"\t\t\ttickvals=np.arange(0, 24, 2),\n",
				"\t\t\tticktext=np.arange(0, 24, 2)\n",
				"\t\t),\n",
				"\t\tyaxis=dict(\n",
				"\t\t\ttitle='Day of the week',\n",
				"\t\t\ttickmode='array',\n",
				"\t\t\ttickvals=np.arange(0, 7),\n",
				"\t\t\tticktext=['Monday', 'Tuesday', 'Wednesday', 'Thursday', 'Friday', 'Saturday', 'Sunday']\n",
				"\t\t)\n",
				"\t)\n",
				"\t\n",
				"\treturn fig\n",
				"\n",
				"plot_heatmap(commit_dates)"
			]
		}
	],
	"metadata": {
		"kernelspec": {
			"display_name": "venv",
			"language": "python",
			"name": "python3"
		},
		"language_info": {
			"codemirror_mode": {
				"name": "ipython",
				"version": 3
			},
			"file_extension": ".py",
			"mimetype": "text/x-python",
			"name": "python",
			"nbconvert_exporter": "python",
			"pygments_lexer": "ipython3",
			"version": "3.9.5"
		},
		"vscode": {
			"interpreter": {
				"hash": "067b78e4a44e8b0a0f6f4f23266782a314d21c0d58909bd8030b6a0c0eed9a04"
			}
		}
	},
	"nbformat": 4,
	"nbformat_minor": 4
}
